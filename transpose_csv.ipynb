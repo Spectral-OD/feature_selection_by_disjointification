{
 "cells": [
  {
   "cell_type": "markdown",
   "id": "01bf422d-0589-4f2b-9fcf-a0a811e3443b",
   "metadata": {},
   "source": [
    "# Transposing The Features Dataset\n",
    "- The features dataset has columns for samplenames and rows for features\n",
    "- This is annoying and a mismatch with the label info\n",
    "- This script will transpose it and save it to the same folder with the _t suffix"
   ]
  },
  {
   "cell_type": "code",
   "execution_count": 1,
   "id": "256c2f4d-b3b2-4c8b-a728-ffb2cfd57766",
   "metadata": {},
   "outputs": [],
   "source": [
    "from pathlib import Path\n",
    "import pandas as pd\n",
    "import csv\n",
    "features_df_path = Path(r\"c:\\data\\SCANB.csv\")\n"
   ]
  },
  {
   "cell_type": "code",
   "execution_count": 2,
   "id": "0f7ad8f8-b1e0-4d36-ad70-b17e079e5c39",
   "metadata": {},
   "outputs": [
    {
     "name": "stdout",
     "output_type": "stream",
     "text": [
      "c:\\data\\SCANB_t.csv\n"
     ]
    }
   ],
   "source": [
    "features_t_df_path = str(features_df_path).replace(features_df_path.stem, features_df_path.stem+\"_t\")\n",
    "print(features_t_df_path)"
   ]
  },
  {
   "cell_type": "code",
   "execution_count": 3,
   "id": "967ec4ab-01e6-4290-b177-2af41f334a2a",
   "metadata": {},
   "outputs": [],
   "source": [
    "col_names = []\n",
    "cols = []\n",
    "\n",
    "with open(features_df_path) as f:\n",
    "    reader = csv.reader(f, delimiter=',')\n",
    "    for row in reader:\n",
    "        col_name = row[0]\n",
    "        col = row[1:]\n",
    "        col_names.append(col_name)\n",
    "        cols.append(col)\n",
    "col_names[0] = \"samplename\"\n",
    "series_list = []\n",
    "for col, col_name in  zip(cols, col_names):\n",
    "    seri = pd.Series(data=col, name=col_name)\n",
    "    series_list.append(seri)\n",
    "    \n",
    "df_t = pd.concat(series_list, axis=1)\n",
    "df_t.to_csv(features_t_df_path)"
   ]
  },
  {
   "cell_type": "code",
   "execution_count": null,
   "id": "01d7136d-c335-4190-8210-ac82d48a13e8",
   "metadata": {},
   "outputs": [],
   "source": []
  }
 ],
 "metadata": {
  "kernelspec": {
   "display_name": "Python 3 (ipykernel)",
   "language": "python",
   "name": "python3"
  },
  "language_info": {
   "codemirror_mode": {
    "name": "ipython",
    "version": 3
   },
   "file_extension": ".py",
   "mimetype": "text/x-python",
   "name": "python",
   "nbconvert_exporter": "python",
   "pygments_lexer": "ipython3",
   "version": "3.10.5"
  }
 },
 "nbformat": 4,
 "nbformat_minor": 5
}
