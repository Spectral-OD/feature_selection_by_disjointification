{
 "cells": [
  {
   "cell_type": "code",
   "execution_count": 1,
   "id": "7c1e70ce-63f7-47db-bab0-481abf2f4b93",
   "metadata": {},
   "outputs": [],
   "source": [
    "from utils import randomforest\n",
    "import disjointification\n",
    "from pathlib import Path\n",
    "save_point = Path(r\"\\model\\08_08_2023__14_15_26\\08_08_2023__14_15_26.pkl\") # savepoint with full dataset and correlation threshold 0.4\n",
    "rf_root_path = Path(r\"rf_model\")\n",
    "rf_cls_root_path = Path(r\"rf_cls_model\")"
   ]
  },
  {
   "cell_type": "code",
   "execution_count": 2,
   "id": "e4736d32-2d84-41f5-a77b-6dd159c61028",
   "metadata": {},
   "outputs": [
    {
     "name": "stdout",
     "output_type": "stream",
     "text": [
      "saving model...\n",
      "saved model to C:\\github\\feature_selection_on_gene_expression\\rf_model\\rf_08_29_2023__20_41_33.pkl\n",
      "saving model...\n",
      "saved model to C:\\github\\feature_selection_on_gene_expression\\rf_model\\rf_08_29_2023__20_41_33.pkl\n"
     ]
    }
   ],
   "source": [
    "rf = randomforest.RandomForestRegressionComparison(disjointification_model_pkl_file=save_point, root_save_path=rf_root_path)"
   ]
  },
  {
   "cell_type": "code",
   "execution_count": 3,
   "id": "53e84ffe-2b93-4198-ac97-4f16db10f259",
   "metadata": {},
   "outputs": [
    {
     "name": "stdout",
     "output_type": "stream",
     "text": [
      "saving model...\n",
      "saved model to C:\\github\\feature_selection_on_gene_expression\\rf_model\\rf_08_29_2023__20_41_33.pkl\n"
     ]
    }
   ],
   "source": [
    "rf.run()"
   ]
  },
  {
   "cell_type": "code",
   "execution_count": 4,
   "id": "1a70e3a8-83d3-4962-9849-80197fa6af29",
   "metadata": {},
   "outputs": [
    {
     "name": "stdout",
     "output_type": "stream",
     "text": [
      "saving model...\n",
      "saved model to C:\\github\\feature_selection_on_gene_expression\\rf_cls_model\\rf_cls_08_29_2023__21_28_52.pkl\n",
      "saving model...\n",
      "saved model to C:\\github\\feature_selection_on_gene_expression\\rf_cls_model\\rf_cls_08_29_2023__21_28_52.pkl\n"
     ]
    }
   ],
   "source": [
    "rf_cls = randomforest.RandomForestClassificationComparison(disjointification_model_pkl_file=save_point, root_save_path=rf_cls_root_path)"
   ]
  },
  {
   "cell_type": "code",
   "execution_count": 5,
   "id": "8951c7b3-6e34-4d68-9891-f4c4cf09f79e",
   "metadata": {},
   "outputs": [
    {
     "name": "stdout",
     "output_type": "stream",
     "text": [
      "saving model...\n",
      "saved model to C:\\github\\feature_selection_on_gene_expression\\rf_cls_model\\rf_cls_08_29_2023__21_28_52.pkl\n"
     ]
    }
   ],
   "source": [
    "rf_cls.run()"
   ]
  },
  {
   "cell_type": "code",
   "execution_count": null,
   "id": "27e0e540-f74e-467e-9e3b-e5fe98bc9d41",
   "metadata": {},
   "outputs": [],
   "source": []
  }
 ],
 "metadata": {
  "kernelspec": {
   "display_name": "Python 3 (ipykernel)",
   "language": "python",
   "name": "python3"
  },
  "language_info": {
   "codemirror_mode": {
    "name": "ipython",
    "version": 3
   },
   "file_extension": ".py",
   "mimetype": "text/x-python",
   "name": "python",
   "nbconvert_exporter": "python",
   "pygments_lexer": "ipython3",
   "version": "3.10.5"
  }
 },
 "nbformat": 4,
 "nbformat_minor": 5
}
