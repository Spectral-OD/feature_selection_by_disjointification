{
 "cells": [
  {
   "cell_type": "markdown",
   "id": "cd9a2d37-681e-402d-80b9-5bb55e977351",
   "metadata": {},
   "source": [
    "# Disjointification Example\n",
    "\n",
    "- Demonstrates feature selection through disjointification\n",
    "- Data is an example of gene expression on patients\n",
    "- Can be used to automate tuning of hyper parameters: correlation_threshold and min_num_features"
   ]
  },
  {
   "cell_type": "markdown",
   "id": "c80178f4-6104-400d-8e24-da9d6a6d2cf9",
   "metadata": {},
   "source": [
    "## defs/imports/loads"
   ]
  },
  {
   "cell_type": "code",
   "execution_count": 1,
   "id": "07ee51ee-aeb8-4e2f-8436-c9ff42ca7cbd",
   "metadata": {},
   "outputs": [],
   "source": [
    "import disjointification\n",
    "from disjointification import load_gene_expression_data, Disjointification\n",
    "from utils.utils import get_dt_in_fmt\n",
    "from pathlib import Path\n",
    "from pprint import pprint\n",
    "import pandas as pd\n",
    "import numpy as np"
   ]
  },
  {
   "cell_type": "markdown",
   "id": "bfd5e1af-aca0-4ec7-b3de-ca0b60d30217",
   "metadata": {},
   "source": [
    "## Survey the dataset & decide on model parameters\n",
    "### Survey the data"
   ]
  },
  {
   "cell_type": "code",
   "execution_count": 2,
   "id": "969903d7-6f78-4118-b323-2a60f82b4a83",
   "metadata": {},
   "outputs": [
    {
     "name": "stdout",
     "output_type": "stream",
     "text": [
      "Dataframes not loaded. Loading.\n",
      "features_df loaded with shape (3069, 9266)\n",
      "labels_df loaded with shape (3069, 8)\n",
      "labels df shape: (3069, 8)\n",
      "features df shape: (3069, 9266)\n"
     ]
    }
   ],
   "source": [
    "if 'labels_df' not in locals() or 'features_df' not in locals():\n",
    "        print(f\"Dataframes not loaded. Loading.\")\n",
    "        ge_data = load_gene_expression_data()\n",
    "        features_df = ge_data[\"features\"]\n",
    "        labels_df = ge_data[\"labels\"]\n",
    "        print(f\"features_df loaded with shape {features_df.shape}\")\n",
    "        print(f\"labels_df loaded with shape {labels_df.shape}\")\n",
    "print(f\"labels df shape: {labels_df.shape}\")\n",
    "print(f\"features df shape: {features_df.shape}\")"
   ]
  },
  {
   "cell_type": "markdown",
   "id": "c0bf1324-5bb4-4956-81d7-db0639d5f72b",
   "metadata": {},
   "source": [
    "### Set Model paramers\n",
    "- load_last_save_point, last_save_point - enables loading of a previous model and provide a path where it was saved, in .pkl format\n",
    "- min_num_features - disjointification will stop after the best N features found\n",
    "- correlation_threshold - disjointification will only select a feature less correlated to the previous ones than this\n",
    "- select_num_features select_num_instance - allows shrinking the dataset to a given size (int) or fraction (fraction), primarily for debugging\n",
    "- alert selection, debug print - printout when a feature has been selected via disjointification and when various actions are taken, for debugging\n",
    "- model_save_folder - root path under which different models are saved"
   ]
  },
  {
   "cell_type": "code",
   "execution_count": 3,
   "id": "767a6389-615f-48aa-99e0-41cddbd20eb0",
   "metadata": {},
   "outputs": [],
   "source": [
    "load_last_save_point = False\n",
    "# last_save_point = r\"model\\06_24_2023__10_58_52\\06_24_2023__10_59_03_(3069, 9260).pkl\"\n",
    "\n",
    "# shrink the dataset for debugging\n",
    "select_num_features = 1.0\n",
    "select_num_instances = 1.0\n",
    "model_save_folder = r\"\\model\"\n",
    "min_num_features = 500\n",
    "correlation_threshold = 0.4"
   ]
  },
  {
   "cell_type": "markdown",
   "id": "0e01576c-74d5-4240-a4b3-4a63a890c18d",
   "metadata": {},
   "source": [
    "## Iterate over correlation threshold values and run the model"
   ]
  },
  {
   "cell_type": "code",
   "execution_count": 4,
   "id": "fdb1ed0a-be67-46d0-ad9a-4efc77211efa",
   "metadata": {},
   "outputs": [
    {
     "name": "stdout",
     "output_type": "stream",
     "text": [
      "\n",
      "09_13_2023__01_12_39: correlation threshold set to 0.4. Initializing disjointification process\n",
      "saving model...\n",
      "saved model to C:\\model\\09_13_2023__01_12_39\\09_13_2023__01_12_39.pkl\n",
      "Disjointification Test Description\n",
      "features data: (3069, 9259)\n",
      "labels data: (3069, 2)\n",
      "regression label: Lympho\n",
      "classification label: ER\n",
      "correlation method regression: pearson\n",
      "correlation method regression: <function point_bi_serial_r_correlation at 0x00000155ABABAE60>\n",
      "min num of features to keep in disjointification: 500\n",
      "correlation threshold: 0.4\n",
      "last save point: \\model\\09_13_2023__01_12_39\\09_13_2023__01_12_39.pkl\n",
      "number of features kept in disjointification: lin 0, log 0\n",
      "\n",
      "09_13_2023__01_13_07 Running Disjointificatioin\n",
      "\n",
      "09_13_2023__01_13_07 : Running both regression and classification disjointification.\n",
      "\n",
      "\n",
      "09_13_2023__01_13_07 : Running regression disjointification.\n",
      "\n",
      "\n",
      "09_13_2023__01_18_10 - after 100 iterations, found 0 features!\n",
      "09_13_2023__01_22_14 - after 200 iterations, found 0 features!\n",
      "09_13_2023__01_26_24 - after 300 iterations, found 0 features!\n",
      "09_13_2023__01_30_16 - after 400 iterations, found 0 features!\n",
      "09_13_2023__01_34_36 - after 500 iterations, found 0 features!\n",
      "09_13_2023__01_38_23 - after 600 iterations, found 1 features!\n",
      "09_13_2023__01_43_50 - after 700 iterations, found 16 features!\n",
      "09_13_2023__01_48_53 - after 800 iterations, found 45 features!\n",
      "09_13_2023__01_54_52 - after 900 iterations, found 68 features!\n",
      "09_13_2023__02_01_02 - after 1000 iterations, found 92 features!\n",
      "09_13_2023__02_07_19 - after 1100 iterations, found 115 features!\n",
      "09_13_2023__02_13_15 - after 1200 iterations, found 132 features!\n",
      "09_13_2023__02_19_18 - after 1300 iterations, found 155 features!\n",
      "09_13_2023__02_24_36 - after 1400 iterations, found 172 features!\n",
      "09_13_2023__02_30_53 - after 1500 iterations, found 198 features!\n",
      "09_13_2023__02_36_08 - after 1600 iterations, found 225 features!\n",
      "09_13_2023__02_40_45 - after 1700 iterations, found 248 features!\n",
      "09_13_2023__02_45_34 - after 1800 iterations, found 271 features!\n",
      "09_13_2023__02_50_11 - after 1900 iterations, found 299 features!\n",
      "09_13_2023__02_54_52 - after 2000 iterations, found 323 features!\n",
      "09_13_2023__02_59_47 - after 2100 iterations, found 352 features!\n",
      "09_13_2023__03_04_27 - after 2200 iterations, found 384 features!\n",
      "09_13_2023__03_08_15 - after 2300 iterations, found 408 features!\n",
      "09_13_2023__03_11_53 - after 2400 iterations, found 435 features!\n",
      "09_13_2023__03_15_33 - after 2500 iterations, found 467 features!\n",
      "09_13_2023__03_19_13 - after 2600 iterations, found 498 features!\n",
      "saving model...\n",
      "saved model to C:\\model\\09_13_2023__01_12_39\\09_13_2023__01_12_39.pkl\n",
      "\n",
      "\n",
      "09_13_2023__01_13_07 : Running classification disjointification.\n",
      "\n",
      "\n",
      "09_13_2023__03_23_00 - after 100 iterations, found 0 features!\n",
      "09_13_2023__03_26_50 - after 200 iterations, found 0 features!\n",
      "09_13_2023__03_30_26 - after 300 iterations, found 0 features!\n",
      "09_13_2023__03_33_58 - after 400 iterations, found 0 features!\n",
      "09_13_2023__03_37_32 - after 500 iterations, found 1 features!\n",
      "09_13_2023__03_41_15 - after 600 iterations, found 2 features!\n",
      "09_13_2023__03_44_50 - after 700 iterations, found 7 features!\n",
      "09_13_2023__03_48_18 - after 800 iterations, found 17 features!\n",
      "09_13_2023__03_51_59 - after 900 iterations, found 27 features!\n",
      "09_13_2023__03_55_28 - after 1000 iterations, found 37 features!\n",
      "09_13_2023__03_59_01 - after 1100 iterations, found 50 features!\n",
      "09_13_2023__04_02_37 - after 1200 iterations, found 63 features!\n",
      "09_13_2023__04_06_19 - after 1300 iterations, found 88 features!\n",
      "09_13_2023__04_09_58 - after 1400 iterations, found 119 features!\n",
      "09_13_2023__04_13_30 - after 1500 iterations, found 135 features!\n",
      "09_13_2023__04_17_00 - after 1600 iterations, found 159 features!\n",
      "09_13_2023__04_20_42 - after 1700 iterations, found 189 features!\n",
      "09_13_2023__04_24_12 - after 1800 iterations, found 218 features!\n",
      "09_13_2023__04_27_31 - after 1900 iterations, found 245 features!\n",
      "09_13_2023__04_30_47 - after 2000 iterations, found 273 features!\n",
      "09_13_2023__04_34_21 - after 2100 iterations, found 297 features!\n",
      "09_13_2023__04_37_48 - after 2200 iterations, found 320 features!\n",
      "09_13_2023__04_41_22 - after 2300 iterations, found 348 features!\n",
      "09_13_2023__04_45_08 - after 2400 iterations, found 371 features!\n",
      "09_13_2023__04_48_50 - after 2500 iterations, found 404 features!\n",
      "09_13_2023__04_52_41 - after 2600 iterations, found 433 features!\n",
      "09_13_2023__04_56_07 - after 2700 iterations, found 461 features!\n",
      "09_13_2023__04_59_44 - after 2800 iterations, found 495 features!\n",
      "saving model...\n",
      "saved model to C:\\model\\09_13_2023__01_12_39\\09_13_2023__01_12_39.pkl\n",
      "number of features selected: regression 500, classification 500\n",
      "\n",
      "09_13_2023__05_00_12: ended disjointification.\n",
      "\n",
      "\n",
      "\n",
      "\n",
      "Done running all disjointifications!\n"
     ]
    }
   ],
   "source": [
    "correlation_thresholds = [0.4]\n",
    "\n",
    "for correlation_threshold in correlation_thresholds:\n",
    "    iter_time = get_dt_in_fmt()\n",
    "    print(f\"\\n{iter_time}: correlation threshold set to {correlation_threshold}. Initializing disjointification process\")\n",
    "    disj = Disjointification(features_file_path=None, labels_file_path=None, features_df=features_df, \n",
    "                             labels_df=labels_df, select_num_features=select_num_features, select_num_instances=select_num_instances, \n",
    "                             root_save_folder=model_save_folder, do_set=False, \n",
    "                             correlation_threshold=correlation_threshold, min_num_features=min_num_features)\n",
    "    disj.set()\n",
    "    disj.describe()\n",
    "    start_time = disjointification.utils.get_dt_in_fmt()\n",
    "    print(f\"\\n{start_time} Running Disjointificatioin\\n\")\n",
    "    disj.run_disjointification()\n",
    "    end_time = get_dt_in_fmt()\n",
    "    \n",
    "    n,m = disj.get_num_features_selected_for_regression(), disj.get_num_features_selected_for_classification()\n",
    "    print(f\"number of features selected: regression {n}, classification {m}\")\n",
    "    \n",
    "    print(f\"\\n{end_time}: ended disjointification.\\n\\n\\n\")\n",
    "    \n",
    "    \n",
    "\n",
    "print(f\"\\nDone running all disjointifications!\")"
   ]
  }
 ],
 "metadata": {
  "kernelspec": {
   "display_name": "Python 3 (ipykernel)",
   "language": "python",
   "name": "python3"
  },
  "language_info": {
   "codemirror_mode": {
    "name": "ipython",
    "version": 3
   },
   "file_extension": ".py",
   "mimetype": "text/x-python",
   "name": "python",
   "nbconvert_exporter": "python",
   "pygments_lexer": "ipython3",
   "version": "3.10.5"
  }
 },
 "nbformat": 4,
 "nbformat_minor": 5
}
