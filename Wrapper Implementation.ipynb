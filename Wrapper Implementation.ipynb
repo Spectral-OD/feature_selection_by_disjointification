{
 "cells": [
  {
   "cell_type": "markdown",
   "id": "1a704c90-a2d7-4dd3-b5a4-8d181aca9446",
   "metadata": {},
   "source": [
    "# Idea of the Wrapping Approach\n",
    "- running (or loading a previously ran) a disjointification model to narrow down number of features from thousands to a few hundreds\n",
    "- further narrow the number of features to ~100 by train-test-validation splitting and running a basic selection algorithm"
   ]
  },
  {
   "cell_type": "code",
   "execution_count": 6,
   "id": "c1aea927-e32c-49c5-8462-4f68091986d3",
   "metadata": {},
   "outputs": [
    {
     "name": "stdout",
     "output_type": "stream",
     "text": [
      "Disjointification Test Description\n",
      "features data: (3069, 9259)\n",
      "labels data: (3069, 2)\n",
      "regression label: Lympho\n",
      "classification label: ER\n",
      "correlation method regression: pearson\n",
      "correlation method regression: <function point_bi_serial_r_correlation at 0x0000021662E20430>\n",
      "min num of features to keep in disjointification: 200\n",
      "correlation threshold: 0.4\n",
      "last save point: \\model\\09_09_2023__01_24_48\\09_09_2023__01_24_48.pkl\n",
      "number of features kept in disjointification: lin 200, log 200\n"
     ]
    }
   ],
   "source": [
    "import disjointification\n",
    "import utils\n",
    "from sklearn.ensemble import RandomForestRegressor, RandomForestClassifier\n",
    "from pathlib import Path\n",
    "save_point = Path(r\"disjointification_model_point_bi_serial_fulldataset/09_09_2023__01_24_48/09_09_2023__01_24_48.pkl\")\n",
    "if 'disj' not in locals():\n",
    "    disj = disjointification.from_file(save_point)\n",
    "disj.describe()"
   ]
  },
  {
   "cell_type": "code",
   "execution_count": null,
   "id": "99abd507-450e-4e7e-b593-abe02e1e0d8a",
   "metadata": {},
   "outputs": [],
   "source": []
  }
 ],
 "metadata": {
  "kernelspec": {
   "display_name": "Python 3 (ipykernel)",
   "language": "python",
   "name": "python3"
  },
  "language_info": {
   "codemirror_mode": {
    "name": "ipython",
    "version": 3
   },
   "file_extension": ".py",
   "mimetype": "text/x-python",
   "name": "python",
   "nbconvert_exporter": "python",
   "pygments_lexer": "ipython3",
   "version": "3.10.5"
  }
 },
 "nbformat": 4,
 "nbformat_minor": 5
}
