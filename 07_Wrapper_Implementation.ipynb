{
 "cells": [
  {
   "cell_type": "markdown",
   "id": "1a704c90-a2d7-4dd3-b5a4-8d181aca9446",
   "metadata": {},
   "source": [
    "# Idea of the Wrapping Approach\n",
    "- running (or loading a previously ran) a disjointification model to narrow down number of features from thousands to a few hundreds\n",
    "- further narrow the number of features to ~100 by train-test-validation splitting and running a basic selection algorithm"
   ]
  },
  {
   "cell_type": "markdown",
   "id": "c13c7eb8-f41f-4fba-8697-8c4efdec2b20",
   "metadata": {},
   "source": [
    "## Imports / Defs"
   ]
  },
  {
   "cell_type": "code",
   "execution_count": 44,
   "id": "c1aea927-e32c-49c5-8462-4f68091986d3",
   "metadata": {},
   "outputs": [
    {
     "name": "stdout",
     "output_type": "stream",
     "text": [
      "Disjointification Test Description\n",
      "features data: (3069, 9259)\n",
      "labels data: (3069, 2)\n",
      "regression label: Lympho\n",
      "classification label: ER\n",
      "correlation method regression: pearson\n",
      "correlation method regression: <function point_bi_serial_r_correlation at 0x0000021662E20430>\n",
      "min num of features to keep in disjointification: 200\n",
      "correlation threshold: 0.4\n",
      "last save point: \\model\\09_09_2023__01_24_48\\09_09_2023__01_24_48.pkl\n",
      "number of features kept in disjointification: lin 200, log 200\n"
     ]
    }
   ],
   "source": [
    "import disjointification\n",
    "import utils\n",
    "from sklearn.ensemble import RandomForestRegressor, RandomForestClassifier\n",
    "from pathlib import Path\n",
    "save_point = Path(r\"disjointification_model_point_bi_serial_fulldataset/09_09_2023__01_24_48/09_09_2023__01_24_48.pkl\")\n",
    "if 'disj' not in locals():\n",
    "    disj = disjointification.from_file(save_point)\n",
    "disj.describe()"
   ]
  },
  {
   "cell_type": "code",
   "execution_count": 51,
   "id": "99abd507-450e-4e7e-b593-abe02e1e0d8a",
   "metadata": {},
   "outputs": [
    {
     "data": {
      "text/plain": [
       "(3069, 9259)"
      ]
     },
     "execution_count": 51,
     "metadata": {},
     "output_type": "execute_result"
    }
   ],
   "source": [
    "disj.features_df.shape"
   ]
  },
  {
   "cell_type": "code",
   "execution_count": 52,
   "id": "301e3c9f-b9fd-48d5-9c8c-6f246a9019d5",
   "metadata": {},
   "outputs": [
    {
     "data": {
      "text/plain": [
       "(3069, 2)"
      ]
     },
     "execution_count": 52,
     "metadata": {},
     "output_type": "execute_result"
    }
   ],
   "source": [
    "disj.labels_df.shape"
   ]
  },
  {
   "cell_type": "code",
   "execution_count": 53,
   "id": "3344603d-db07-4b0c-b986-77f9d6d0d9e5",
   "metadata": {},
   "outputs": [],
   "source": [
    "from sklearn.model_selection import train_test_split\n",
    "from sklearn.feature_selection import SelectKBest\n",
    "from sklearn.linear_model import LinearRegression, LogisticRegression\n",
    "\n",
    "regression_label = disj.lin_regressor_label\n",
    "classification_label = disj.log_regressor_label\n",
    "validation_size_split = 0.3\n",
    "test_size_split = 0.2\n",
    "\n",
    "train_size_split = 1-validation_size_split-test_size_split\n",
    "actual_test_size_split = test_size_split/(test_size_split+train_size_split)"
   ]
  },
  {
   "cell_type": "code",
   "execution_count": 54,
   "id": "1f768252-8efb-4dfe-9b56-3054269cef9f",
   "metadata": {},
   "outputs": [],
   "source": [
    "y = disj.labels_df[classification_label].copy().dropna()\n",
    "x = disj.features_df.copy().dropna()\n",
    "x_train_test, x_validation, y_train_test, y_validation = train_test_split(x, y, test_size=validation_size_split, random_state=97)\n",
    "x_train, x_test, y_train, y_test = train_test_split(x_train_test, y_train_test, test_size=validation_size_split, random_state=34)"
   ]
  },
  {
   "cell_type": "code",
   "execution_count": 55,
   "id": "a482a8d9-dad3-494f-9629-e73659263ae5",
   "metadata": {},
   "outputs": [],
   "source": [
    "skb = SelectKBest(k=10)\n",
    "selected_features_classification = skb.fit_transform(x_train, y_train)"
   ]
  },
  {
   "cell_type": "code",
   "execution_count": 56,
   "id": "df8a87ae-2872-4d65-9971-cc50db52a0ec",
   "metadata": {},
   "outputs": [
    {
     "data": {
      "text/html": [
       "<style>#sk-container-id-5 {color: black;background-color: white;}#sk-container-id-5 pre{padding: 0;}#sk-container-id-5 div.sk-toggleable {background-color: white;}#sk-container-id-5 label.sk-toggleable__label {cursor: pointer;display: block;width: 100%;margin-bottom: 0;padding: 0.3em;box-sizing: border-box;text-align: center;}#sk-container-id-5 label.sk-toggleable__label-arrow:before {content: \"▸\";float: left;margin-right: 0.25em;color: #696969;}#sk-container-id-5 label.sk-toggleable__label-arrow:hover:before {color: black;}#sk-container-id-5 div.sk-estimator:hover label.sk-toggleable__label-arrow:before {color: black;}#sk-container-id-5 div.sk-toggleable__content {max-height: 0;max-width: 0;overflow: hidden;text-align: left;background-color: #f0f8ff;}#sk-container-id-5 div.sk-toggleable__content pre {margin: 0.2em;color: black;border-radius: 0.25em;background-color: #f0f8ff;}#sk-container-id-5 input.sk-toggleable__control:checked~div.sk-toggleable__content {max-height: 200px;max-width: 100%;overflow: auto;}#sk-container-id-5 input.sk-toggleable__control:checked~label.sk-toggleable__label-arrow:before {content: \"▾\";}#sk-container-id-5 div.sk-estimator input.sk-toggleable__control:checked~label.sk-toggleable__label {background-color: #d4ebff;}#sk-container-id-5 div.sk-label input.sk-toggleable__control:checked~label.sk-toggleable__label {background-color: #d4ebff;}#sk-container-id-5 input.sk-hidden--visually {border: 0;clip: rect(1px 1px 1px 1px);clip: rect(1px, 1px, 1px, 1px);height: 1px;margin: -1px;overflow: hidden;padding: 0;position: absolute;width: 1px;}#sk-container-id-5 div.sk-estimator {font-family: monospace;background-color: #f0f8ff;border: 1px dotted black;border-radius: 0.25em;box-sizing: border-box;margin-bottom: 0.5em;}#sk-container-id-5 div.sk-estimator:hover {background-color: #d4ebff;}#sk-container-id-5 div.sk-parallel-item::after {content: \"\";width: 100%;border-bottom: 1px solid gray;flex-grow: 1;}#sk-container-id-5 div.sk-label:hover label.sk-toggleable__label {background-color: #d4ebff;}#sk-container-id-5 div.sk-serial::before {content: \"\";position: absolute;border-left: 1px solid gray;box-sizing: border-box;top: 0;bottom: 0;left: 50%;z-index: 0;}#sk-container-id-5 div.sk-serial {display: flex;flex-direction: column;align-items: center;background-color: white;padding-right: 0.2em;padding-left: 0.2em;position: relative;}#sk-container-id-5 div.sk-item {position: relative;z-index: 1;}#sk-container-id-5 div.sk-parallel {display: flex;align-items: stretch;justify-content: center;background-color: white;position: relative;}#sk-container-id-5 div.sk-item::before, #sk-container-id-5 div.sk-parallel-item::before {content: \"\";position: absolute;border-left: 1px solid gray;box-sizing: border-box;top: 0;bottom: 0;left: 50%;z-index: -1;}#sk-container-id-5 div.sk-parallel-item {display: flex;flex-direction: column;z-index: 1;position: relative;background-color: white;}#sk-container-id-5 div.sk-parallel-item:first-child::after {align-self: flex-end;width: 50%;}#sk-container-id-5 div.sk-parallel-item:last-child::after {align-self: flex-start;width: 50%;}#sk-container-id-5 div.sk-parallel-item:only-child::after {width: 0;}#sk-container-id-5 div.sk-dashed-wrapped {border: 1px dashed gray;margin: 0 0.4em 0.5em 0.4em;box-sizing: border-box;padding-bottom: 0.4em;background-color: white;}#sk-container-id-5 div.sk-label label {font-family: monospace;font-weight: bold;display: inline-block;line-height: 1.2em;}#sk-container-id-5 div.sk-label-container {text-align: center;}#sk-container-id-5 div.sk-container {/* jupyter's `normalize.less` sets `[hidden] { display: none; }` but bootstrap.min.css set `[hidden] { display: none !important; }` so we also need the `!important` here to be able to override the default hidden behavior on the sphinx rendered scikit-learn.org. See: https://github.com/scikit-learn/scikit-learn/issues/21755 */display: inline-block !important;position: relative;}#sk-container-id-5 div.sk-text-repr-fallback {display: none;}</style><div id=\"sk-container-id-5\" class=\"sk-top-container\"><div class=\"sk-text-repr-fallback\"><pre>LogisticRegression(max_iter=10000)</pre><b>In a Jupyter environment, please rerun this cell to show the HTML representation or trust the notebook. <br />On GitHub, the HTML representation is unable to render, please try loading this page with nbviewer.org.</b></div><div class=\"sk-container\" hidden><div class=\"sk-item\"><div class=\"sk-estimator sk-toggleable\"><input class=\"sk-toggleable__control sk-hidden--visually\" id=\"sk-estimator-id-5\" type=\"checkbox\" checked><label for=\"sk-estimator-id-5\" class=\"sk-toggleable__label sk-toggleable__label-arrow\">LogisticRegression</label><div class=\"sk-toggleable__content\"><pre>LogisticRegression(max_iter=10000)</pre></div></div></div></div></div>"
      ],
      "text/plain": [
       "LogisticRegression(max_iter=10000)"
      ]
     },
     "execution_count": 56,
     "metadata": {},
     "output_type": "execute_result"
    }
   ],
   "source": [
    "lr = LogisticRegression(max_iter=10000)\n",
    "lr.fit(x_test, y_test)"
   ]
  },
  {
   "cell_type": "markdown",
   "id": "85bf5819-7c04-4cc3-8083-4eb0c26c7fbb",
   "metadata": {},
   "source": [
    "## Repeat For Regression"
   ]
  },
  {
   "cell_type": "code",
   "execution_count": null,
   "id": "1f53dac3-c90c-4dd1-b9da-6cd66973380e",
   "metadata": {},
   "outputs": [],
   "source": []
  }
 ],
 "metadata": {
  "kernelspec": {
   "display_name": "Python 3 (ipykernel)",
   "language": "python",
   "name": "python3"
  },
  "language_info": {
   "codemirror_mode": {
    "name": "ipython",
    "version": 3
   },
   "file_extension": ".py",
   "mimetype": "text/x-python",
   "name": "python",
   "nbconvert_exporter": "python",
   "pygments_lexer": "ipython3",
   "version": "3.10.5"
  }
 },
 "nbformat": 4,
 "nbformat_minor": 5
}
