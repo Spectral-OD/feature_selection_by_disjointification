{
 "cells": [
  {
   "cell_type": "code",
   "execution_count": 1,
   "id": "2e459b05-dec4-427c-a54d-a09bdfca033e",
   "metadata": {},
   "outputs": [],
   "source": [
    "import disjointification\n",
    "from disjointification import load_gene_expression_data, Disjointification\n",
    "from pathlib import Path\n",
    "\n",
    "load_last_save_point = True\n",
    "last_save_point = r\"C:\\github\\feature_selection_on_gene_expression\\model\\05_26_2023__16_04_04\\05_26_2023__16_04_51.pkl\""
   ]
  },
  {
   "cell_type": "code",
   "execution_count": 2,
   "id": "2cf2c262-93f8-4ea3-9716-bff851edd70d",
   "metadata": {},
   "outputs": [],
   "source": [
    "if load_last_save_point:\n",
    "    test = disjointification.from_file(last_save_point)\n",
    "else:\n",
    "    if 'labels_df' not in locals() or 'features_df' not in locals():\n",
    "        labels_df, features_df = load_gene_expression_data()\n",
    "    select_num_features = 500\n",
    "    select_num_instances = 100\n",
    "    selected_labels = [\"ER\", \"Lympho\"]\n",
    "    correlation_threshold = 0.2\n",
    "    alert_selection = True\n",
    "    debug_print = False\n",
    "\n",
    "    test = Disjointification(features_file_path=None, labels_file_path=None, features_df=features_df, labels_df=labels_df, select_num_features=select_num_features, select_num_instances=select_num_instances, selected_labels=selected_labels)"
   ]
  },
  {
   "cell_type": "code",
   "execution_count": 3,
   "id": "832daf78-71bf-4ff7-8b0f-f1c34826ec78",
   "metadata": {},
   "outputs": [
    {
     "name": "stdout",
     "output_type": "stream",
     "text": [
      "saving model...\n",
      "saved model to C:\\github\\feature_selection_on_gene_expression\\model\\05_26_2023__16_04_04\\05_26_2023__16_33_38.pkl\n",
      "saving model...\n",
      "saved model to C:\\github\\feature_selection_on_gene_expression\\model\\05_26_2023__16_04_04\\05_26_2023__16_33_45.pkl\n",
      "saving model...\n",
      "saved model to C:\\github\\feature_selection_on_gene_expression\\model\\05_26_2023__16_04_04\\05_26_2023__16_33_45.pkl\n"
     ]
    }
   ],
   "source": [
    "test.run()"
   ]
  },
  {
   "cell_type": "code",
   "execution_count": null,
   "id": "8207c354-a631-41a7-a265-e3cd07d1b8bf",
   "metadata": {},
   "outputs": [],
   "source": []
  },
  {
   "cell_type": "code",
   "execution_count": null,
   "id": "ed7b155d-05f5-4634-9033-e53d50a02c23",
   "metadata": {},
   "outputs": [],
   "source": [
    "test.features_and_labels_df.columns\n",
    "test.log_regressor_label"
   ]
  },
  {
   "cell_type": "code",
   "execution_count": 4,
   "id": "012a0aaa-eceb-482b-8d74-e73e13f1e27f",
   "metadata": {},
   "outputs": [
    {
     "data": {
      "text/plain": [
       "['Lympho', 'Lympho']"
      ]
     },
     "execution_count": 4,
     "metadata": {},
     "output_type": "execute_result"
    }
   ],
   "source": [
    "test.features_already_selected_lin"
   ]
  },
  {
   "cell_type": "code",
   "execution_count": 5,
   "id": "221d038e-5ff2-46f8-af3e-7d83a8637544",
   "metadata": {},
   "outputs": [
    {
     "data": {
      "text/plain": [
       "Index(['Lympho', 'F492', 'F349', 'F322', 'F551', 'F406', 'F527', 'F444',\n",
       "       'F212', 'F158',\n",
       "       ...\n",
       "       'F155', 'F351', 'F347', 'F459', 'F196', 'F26', 'F221', 'F77', 'F415',\n",
       "       'F65'],\n",
       "      dtype='object', length=501)"
      ]
     },
     "execution_count": 5,
     "metadata": {},
     "output_type": "execute_result"
    }
   ],
   "source": [
    "test.features_to_test_list"
   ]
  },
  {
   "cell_type": "code",
   "execution_count": null,
   "id": "68b4f882-3367-474f-8352-9635888de1ed",
   "metadata": {},
   "outputs": [],
   "source": []
  }
 ],
 "metadata": {
  "kernelspec": {
   "display_name": "Python 3 (ipykernel)",
   "language": "python",
   "name": "python3"
  },
  "language_info": {
   "codemirror_mode": {
    "name": "ipython",
    "version": 3
   },
   "file_extension": ".py",
   "mimetype": "text/x-python",
   "name": "python",
   "nbconvert_exporter": "python",
   "pygments_lexer": "ipython3",
   "version": "3.10.5"
  }
 },
 "nbformat": 4,
 "nbformat_minor": 5
}
