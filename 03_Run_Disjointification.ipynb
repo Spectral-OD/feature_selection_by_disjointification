{
 "cells": [
  {
   "cell_type": "markdown",
   "id": "cd9a2d37-681e-402d-80b9-5bb55e977351",
   "metadata": {},
   "source": [
    "# Disjointification Example\n",
    "\n",
    "- Demonstrates feature selection through disjointification\n",
    "- Data is an example of gene expression on patients\n",
    "- Can be used to automate tuning of hyper parameters: correlation_threshold and min_num_features"
   ]
  },
  {
   "cell_type": "markdown",
   "id": "c80178f4-6104-400d-8e24-da9d6a6d2cf9",
   "metadata": {},
   "source": [
    "## defs/imports/loads"
   ]
  },
  {
   "cell_type": "code",
   "execution_count": 19,
   "id": "07ee51ee-aeb8-4e2f-8436-c9ff42ca7cbd",
   "metadata": {},
   "outputs": [],
   "source": [
    "import disjointification\n",
    "from disjointification import load_gene_expression_data, Disjointification\n",
    "from pathlib import Path\n",
    "from pprint import pprint\n",
    "import pandas as pd\n",
    "import numpy as np"
   ]
  },
  {
   "cell_type": "markdown",
   "id": "bfd5e1af-aca0-4ec7-b3de-ca0b60d30217",
   "metadata": {},
   "source": [
    "## Survey the dataset & decide on model parameters\n",
    "### Survey the data"
   ]
  },
  {
   "cell_type": "code",
   "execution_count": 20,
   "id": "969903d7-6f78-4118-b323-2a60f82b4a83",
   "metadata": {},
   "outputs": [
    {
     "name": "stdout",
     "output_type": "stream",
     "text": [
      "labels df shape: (3069, 6)\n",
      "features df shape: (3069, 9259)\n"
     ]
    }
   ],
   "source": [
    "if 'labels_df' not in locals() or 'features_df' not in locals():\n",
    "        print(f\"Dataframes not loaded. Loading.\")\n",
    "        ge_data = load_gene_expression_data()\n",
    "        features_df = ge_data[\"features\"]\n",
    "        labels_df = ge_data[\"labels\"]\n",
    "        print(f\"features_df loaded with shape {features_df.shape}\")\n",
    "        print(f\"labels_df loaded with shape {labels_df.shape}\")\n",
    "print(f\"labels df shape: {labels_df.shape}\")\n",
    "print(f\"features df shape: {features_df.shape}\")"
   ]
  },
  {
   "cell_type": "markdown",
   "id": "c0bf1324-5bb4-4956-81d7-db0639d5f72b",
   "metadata": {},
   "source": [
    "### Set Model paramers\n",
    "- load_last_save_point, last_save_point - enables loading of a previous model and provide a path where it was saved, in .pkl format\n",
    "- min_num_features - disjointification will stop after the best N features found\n",
    "- correlation_threshold - disjointification will only select a feature less correlated to the previous ones than this\n",
    "- select_num_features select_num_instance - allows shrinking the dataset to a given size (int) or fraction (fraction), primarily for debugging\n",
    "- alert selection, debug print - printout when a feature has been selected via disjointification and when various actions are taken, for debugging\n",
    "- model_save_folder - root path under which different models are saved"
   ]
  },
  {
   "cell_type": "code",
   "execution_count": 21,
   "id": "767a6389-615f-48aa-99e0-41cddbd20eb0",
   "metadata": {},
   "outputs": [],
   "source": [
    "load_last_save_point = False\n",
    "# last_save_point = r\"model\\06_24_2023__10_58_52\\06_24_2023__10_59_03_(3069, 9260).pkl\"\n",
    "\n",
    "# shrink the dataset for debugging\n",
    "select_num_features = 1.0\n",
    "select_num_instances = 0.2\n",
    "alert_selection = True\n",
    "debug_print = False\n",
    "model_save_folder = r\"\\model\"\n",
    "min_num_features = 200\n",
    "correlation_threshold = 0.2"
   ]
  },
  {
   "cell_type": "markdown",
   "id": "1ce1bc1e-22a0-4e6e-8fce-e85efb28b415",
   "metadata": {},
   "source": [
    "### Create model"
   ]
  },
  {
   "cell_type": "code",
   "execution_count": 22,
   "id": "eb27955b-9386-4af8-9476-80e7387fb7ac",
   "metadata": {},
   "outputs": [
    {
     "name": "stdout",
     "output_type": "stream",
     "text": [
      "saving model...\n",
      "saved model to C:\\model\\09_08_2023__18_46_09\\09_08_2023__18_46_09.pkl\n",
      "Disjointification Test Description\n",
      "features data: (613, 9259)\n",
      "labels data: (613, 2)\n",
      "regression label: Lympho\n",
      "classification label: ER\n",
      "correlation method regression: pearson\n",
      "correlation method regression: <function point_bi_serial_r_correlation at 0x000001CD296DDE10>\n",
      "min num of features to keep in disjointification: 200\n",
      "correlation threshold: 0.2\n",
      "last save point: \\model\\09_08_2023__18_46_09\\09_08_2023__18_46_09.pkl\n",
      "number of features kept in disjointification: lin 0, log 0\n"
     ]
    }
   ],
   "source": [
    "if load_last_save_point:\n",
    "    print(f\"loading model from last save point {last_save_point}\")\n",
    "    test = disjointification.from_file(last_save_point)\n",
    "else:\n",
    "    test = Disjointification(features_file_path=None, labels_file_path=None, features_df=features_df, \n",
    "                             labels_df=labels_df, select_num_features=select_num_features, select_num_instances=select_num_instances, \n",
    "                             root_save_folder=model_save_folder, do_set=False, alert_selection=alert_selection, \n",
    "                             correlation_threshold=correlation_threshold, min_num_features=min_num_features)\n",
    "    test.set()\n",
    "test.describe()"
   ]
  },
  {
   "cell_type": "markdown",
   "id": "735d26e9-9df4-41cc-aab5-c7f31dfe3c24",
   "metadata": {},
   "source": [
    "### Create a save point"
   ]
  },
  {
   "cell_type": "code",
   "execution_count": 23,
   "id": "50a90d15-45a6-486a-95f0-9d80c3d95112",
   "metadata": {},
   "outputs": [
    {
     "name": "stdout",
     "output_type": "stream",
     "text": [
      "last save point:\n",
      "\\model\\09_08_2023__18_46_09\\09_08_2023__18_46_09.pkl\n"
     ]
    }
   ],
   "source": [
    "last_save_point = test.last_save_point_file\n",
    "print('last save point:')\n",
    "print(last_save_point)\n",
    "test = disjointification.from_file(last_save_point)"
   ]
  },
  {
   "cell_type": "code",
   "execution_count": 24,
   "id": "8044a7ad-bc93-4e36-9587-db38b1b51313",
   "metadata": {},
   "outputs": [
    {
     "name": "stdout",
     "output_type": "stream",
     "text": [
      "Disjointification Test Description\n",
      "features data: (613, 9259)\n",
      "labels data: (613, 2)\n",
      "regression label: Lympho\n",
      "classification label: ER\n",
      "correlation method regression: pearson\n",
      "correlation method regression: <function point_bi_serial_r_correlation at 0x000001CD296DDE10>\n",
      "min num of features to keep in disjointification: 200\n",
      "correlation threshold: 0.2\n",
      "last save point: \\model\\09_08_2023__18_46_09\\09_08_2023__18_46_09.pkl\n",
      "number of features kept in disjointification: lin 0, log 0\n"
     ]
    }
   ],
   "source": [
    "test.describe()"
   ]
  },
  {
   "cell_type": "markdown",
   "id": "9f2f26df-a366-4f48-a04d-922ed15a284f",
   "metadata": {},
   "source": [
    "### Run Disjointification"
   ]
  },
  {
   "cell_type": "code",
   "execution_count": 25,
   "id": "296eee40-3e01-4386-990d-1eba761dc2b5",
   "metadata": {},
   "outputs": [
    {
     "name": "stdout",
     "output_type": "stream",
     "text": [
      "09_08_2023__18_46_14 Running Disjointificatioin\n",
      "09_08_2023__18_46_14 : Running both regression and classification disjointification.\n",
      "\n",
      "\n",
      "09_08_2023__18_46_14 : Running regression disjointification.\n",
      "\n",
      "\n",
      "09_08_2023__18_46_48 - after 100 iterations, found 0 features!\n",
      "09_08_2023__18_47_22 - after 200 iterations, found 0 features!\n",
      "09_08_2023__18_47_55 - after 300 iterations, found 0 features!\n",
      "09_08_2023__18_48_36 - after 400 iterations, found 0 features!\n",
      "09_08_2023__18_49_13 - after 500 iterations, found 0 features!\n",
      "09_08_2023__18_49_49 - after 600 iterations, found 0 features!\n",
      "09_08_2023__18_50_24 - after 700 iterations, found 0 features!\n",
      "09_08_2023__18_51_00 - after 800 iterations, found 0 features!\n",
      "09_08_2023__18_51_33 - after 900 iterations, found 0 features!\n",
      "09_08_2023__18_52_05 - after 1000 iterations, found 0 features!\n",
      "09_08_2023__18_52_39 - after 1100 iterations, found 0 features!\n",
      "09_08_2023__18_53_14 - after 1200 iterations, found 0 features!\n",
      "09_08_2023__18_53_47 - after 1300 iterations, found 0 features!\n",
      "09_08_2023__18_54_22 - after 1400 iterations, found 0 features!\n",
      "09_08_2023__18_54_55 - after 1500 iterations, found 0 features!\n",
      "09_08_2023__18_55_32 - after 1600 iterations, found 0 features!\n",
      "09_08_2023__18_56_08 - after 1700 iterations, found 1 features!\n",
      "09_08_2023__18_56_44 - after 1800 iterations, found 1 features!\n",
      "09_08_2023__18_57_17 - after 1900 iterations, found 1 features!\n",
      "09_08_2023__18_57_48 - after 2000 iterations, found 1 features!\n",
      "09_08_2023__18_58_23 - after 2100 iterations, found 1 features!\n",
      "09_08_2023__18_58_56 - after 2200 iterations, found 3 features!\n",
      "09_08_2023__21_12_24 - after 2300 iterations, found 4 features!\n",
      "09_08_2023__21_13_09 - after 2400 iterations, found 8 features!\n",
      "09_08_2023__21_13_50 - after 2500 iterations, found 9 features!\n",
      "09_08_2023__21_14_26 - after 2600 iterations, found 14 features!\n",
      "09_08_2023__21_15_00 - after 2700 iterations, found 21 features!\n",
      "09_08_2023__21_15_36 - after 2800 iterations, found 27 features!\n",
      "09_08_2023__21_16_12 - after 2900 iterations, found 35 features!\n",
      "09_08_2023__21_16_51 - after 3000 iterations, found 43 features!\n",
      "09_08_2023__21_17_35 - after 3100 iterations, found 45 features!\n",
      "09_08_2023__22_00_38 - after 3200 iterations, found 47 features!\n",
      "09_08_2023__22_01_23 - after 3300 iterations, found 48 features!\n",
      "09_08_2023__22_01_58 - after 3400 iterations, found 52 features!\n",
      "09_08_2023__22_02_33 - after 3500 iterations, found 54 features!\n",
      "09_08_2023__22_03_07 - after 3600 iterations, found 57 features!\n",
      "09_08_2023__22_03_41 - after 3700 iterations, found 59 features!\n",
      "09_08_2023__22_04_17 - after 3800 iterations, found 65 features!\n",
      "09_08_2023__22_04_54 - after 3900 iterations, found 66 features!\n",
      "09_08_2023__22_05_37 - after 4000 iterations, found 74 features!\n",
      "09_08_2023__22_06_16 - after 4100 iterations, found 80 features!\n",
      "09_08_2023__22_06_55 - after 4200 iterations, found 86 features!\n",
      "09_08_2023__22_07_31 - after 4300 iterations, found 91 features!\n",
      "09_08_2023__22_08_06 - after 4400 iterations, found 93 features!\n",
      "09_08_2023__22_08_43 - after 4500 iterations, found 99 features!\n",
      "09_08_2023__22_09_18 - after 4600 iterations, found 106 features!\n",
      "09_08_2023__22_09_56 - after 4700 iterations, found 110 features!\n",
      "09_08_2023__22_10_28 - after 4800 iterations, found 116 features!\n",
      "09_08_2023__23_11_30 - after 4900 iterations, found 122 features!\n",
      "09_08_2023__23_12_13 - after 5000 iterations, found 129 features!\n",
      "09_08_2023__23_12_51 - after 5100 iterations, found 136 features!\n",
      "09_08_2023__23_13_27 - after 5200 iterations, found 139 features!\n",
      "09_08_2023__23_14_02 - after 5300 iterations, found 144 features!\n",
      "09_08_2023__23_14_45 - after 5400 iterations, found 152 features!\n",
      "09_08_2023__23_15_29 - after 5500 iterations, found 162 features!\n",
      "09_08_2023__23_16_28 - after 5600 iterations, found 168 features!\n",
      "09_08_2023__23_17_18 - after 5700 iterations, found 172 features!\n",
      "09_08_2023__23_18_12 - after 5800 iterations, found 179 features!\n",
      "09_08_2023__23_19_06 - after 5900 iterations, found 183 features!\n",
      "09_08_2023__23_20_00 - after 6000 iterations, found 191 features!\n",
      "09_08_2023__23_20_57 - after 6100 iterations, found 197 features!\n",
      "saving model...\n",
      "saved model to C:\\model\\09_08_2023__18_46_09\\09_08_2023__18_46_09.pkl\n",
      "\n",
      "\n",
      "09_08_2023__18_46_14 : Running classification disjointification.\n",
      "\n",
      "\n",
      "09_08_2023__23_21_49 - after 100 iterations, found 0 features!\n",
      "09_08_2023__23_22_36 - after 200 iterations, found 0 features!\n",
      "09_08_2023__23_23_22 - after 300 iterations, found 0 features!\n",
      "09_08_2023__23_24_10 - after 400 iterations, found 0 features!\n",
      "09_08_2023__23_24_56 - after 500 iterations, found 0 features!\n",
      "09_08_2023__23_25_43 - after 600 iterations, found 0 features!\n",
      "09_08_2023__23_26_37 - after 700 iterations, found 0 features!\n",
      "09_08_2023__23_27_26 - after 800 iterations, found 0 features!\n",
      "09_08_2023__23_28_16 - after 900 iterations, found 0 features!\n",
      "09_08_2023__23_29_05 - after 1000 iterations, found 0 features!\n",
      "09_08_2023__23_29_55 - after 1100 iterations, found 0 features!\n",
      "09_08_2023__23_30_41 - after 1200 iterations, found 0 features!\n",
      "09_08_2023__23_31_29 - after 1300 iterations, found 0 features!\n",
      "09_08_2023__23_32_22 - after 1400 iterations, found 0 features!\n",
      "09_08_2023__23_33_14 - after 1500 iterations, found 0 features!\n",
      "09_08_2023__23_34_04 - after 1600 iterations, found 0 features!\n",
      "09_08_2023__23_35_00 - after 1700 iterations, found 0 features!\n",
      "09_08_2023__23_35_53 - after 1800 iterations, found 1 features!\n",
      "09_08_2023__23_36_42 - after 1900 iterations, found 1 features!\n",
      "09_08_2023__23_37_31 - after 2000 iterations, found 1 features!\n",
      "09_08_2023__23_38_21 - after 2100 iterations, found 1 features!\n",
      "09_08_2023__23_39_10 - after 2200 iterations, found 1 features!\n",
      "09_08_2023__23_39_59 - after 2300 iterations, found 1 features!\n",
      "09_08_2023__23_40_51 - after 2400 iterations, found 1 features!\n",
      "09_08_2023__23_41_47 - after 2500 iterations, found 1 features!\n",
      "09_08_2023__23_42_43 - after 2600 iterations, found 1 features!\n",
      "09_08_2023__23_43_38 - after 2700 iterations, found 1 features!\n",
      "09_08_2023__23_44_33 - after 2800 iterations, found 2 features!\n",
      "09_08_2023__23_45_25 - after 2900 iterations, found 2 features!\n",
      "09_08_2023__23_46_16 - after 3000 iterations, found 2 features!\n",
      "09_08_2023__23_47_02 - after 3100 iterations, found 4 features!\n",
      "09_08_2023__23_47_50 - after 3200 iterations, found 5 features!\n",
      "09_08_2023__23_48_42 - after 3300 iterations, found 6 features!\n",
      "09_08_2023__23_49_45 - after 3400 iterations, found 8 features!\n",
      "09_08_2023__23_50_41 - after 3500 iterations, found 9 features!\n",
      "09_08_2023__23_51_30 - after 3600 iterations, found 11 features!\n",
      "09_08_2023__23_52_19 - after 3700 iterations, found 16 features!\n",
      "09_08_2023__23_53_14 - after 3800 iterations, found 19 features!\n",
      "09_08_2023__23_54_02 - after 3900 iterations, found 20 features!\n",
      "09_08_2023__23_54_51 - after 4000 iterations, found 24 features!\n",
      "09_08_2023__23_55_41 - after 4100 iterations, found 30 features!\n",
      "09_08_2023__23_56_31 - after 4200 iterations, found 39 features!\n",
      "09_08_2023__23_57_24 - after 4300 iterations, found 44 features!\n",
      "09_08_2023__23_58_15 - after 4400 iterations, found 48 features!\n",
      "09_08_2023__23_59_06 - after 4500 iterations, found 52 features!\n",
      "09_09_2023__00_00_00 - after 4600 iterations, found 61 features!\n",
      "09_09_2023__00_00_50 - after 4700 iterations, found 66 features!\n",
      "09_09_2023__00_01_44 - after 4800 iterations, found 72 features!\n",
      "09_09_2023__00_02_32 - after 4900 iterations, found 75 features!\n",
      "09_09_2023__00_03_22 - after 5000 iterations, found 84 features!\n",
      "09_09_2023__00_04_14 - after 5100 iterations, found 94 features!\n",
      "09_09_2023__00_05_07 - after 5200 iterations, found 99 features!\n",
      "09_09_2023__00_05_56 - after 5300 iterations, found 112 features!\n",
      "09_09_2023__00_06_44 - after 5400 iterations, found 120 features!\n",
      "09_09_2023__00_07_33 - after 5500 iterations, found 125 features!\n",
      "09_09_2023__00_08_23 - after 5600 iterations, found 135 features!\n",
      "09_09_2023__00_09_15 - after 5700 iterations, found 139 features!\n",
      "09_09_2023__00_10_08 - after 5800 iterations, found 146 features!\n",
      "09_09_2023__00_11_02 - after 5900 iterations, found 148 features!\n",
      "09_09_2023__00_11_56 - after 6000 iterations, found 156 features!\n",
      "09_09_2023__00_12_47 - after 6100 iterations, found 162 features!\n",
      "09_09_2023__00_13_41 - after 6200 iterations, found 169 features!\n",
      "09_09_2023__00_14_32 - after 6300 iterations, found 174 features!\n",
      "09_09_2023__00_15_28 - after 6400 iterations, found 184 features!\n",
      "09_09_2023__00_16_21 - after 6500 iterations, found 191 features!\n",
      "saving model...\n",
      "saved model to C:\\model\\09_08_2023__18_46_09\\09_08_2023__18_46_09.pkl\n"
     ]
    }
   ],
   "source": [
    "start_time = disjointification.utils.get_dt_in_fmt()\n",
    "print(f\"{start_time} Running Disjointificatioin\")\n",
    "test.run_disjointification()"
   ]
  },
  {
   "cell_type": "code",
   "execution_count": 26,
   "id": "f2d08874-b989-4f7d-b428-a4a3d26222e2",
   "metadata": {},
   "outputs": [
    {
     "name": "stdout",
     "output_type": "stream",
     "text": [
      "Disjointification Test Description\n",
      "features data: (613, 9259)\n",
      "labels data: (613, 2)\n",
      "regression label: Lympho\n",
      "classification label: ER\n",
      "correlation method regression: pearson\n",
      "correlation method regression: <function point_bi_serial_r_correlation at 0x000001CD296DDE10>\n",
      "min num of features to keep in disjointification: 200\n",
      "correlation threshold: 0.2\n",
      "last save point: \\model\\09_08_2023__18_46_09\\09_08_2023__18_46_09.pkl\n",
      "number of features kept in disjointification: lin 200, log 200\n"
     ]
    }
   ],
   "source": [
    "test.describe()"
   ]
  },
  {
   "cell_type": "code",
   "execution_count": null,
   "id": "208ad381-4695-4b00-975c-8d0ff94d9e21",
   "metadata": {},
   "outputs": [],
   "source": []
  }
 ],
 "metadata": {
  "kernelspec": {
   "display_name": "Python 3 (ipykernel)",
   "language": "python",
   "name": "python3"
  },
  "language_info": {
   "codemirror_mode": {
    "name": "ipython",
    "version": 3
   },
   "file_extension": ".py",
   "mimetype": "text/x-python",
   "name": "python",
   "nbconvert_exporter": "python",
   "pygments_lexer": "ipython3",
   "version": "3.10.5"
  }
 },
 "nbformat": 4,
 "nbformat_minor": 5
}
