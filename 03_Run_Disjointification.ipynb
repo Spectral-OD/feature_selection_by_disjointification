{
 "cells": [
  {
   "cell_type": "markdown",
   "id": "cd9a2d37-681e-402d-80b9-5bb55e977351",
   "metadata": {},
   "source": [
    "# Disjointification Example\n",
    "\n",
    "- Demonstrates feature selection through disjointification\n",
    "- Data is an example of gene expression on patients"
   ]
  },
  {
   "cell_type": "markdown",
   "id": "c80178f4-6104-400d-8e24-da9d6a6d2cf9",
   "metadata": {},
   "source": [
    "## defs/imports/loads"
   ]
  },
  {
   "cell_type": "code",
   "execution_count": 31,
   "id": "07ee51ee-aeb8-4e2f-8436-c9ff42ca7cbd",
   "metadata": {},
   "outputs": [],
   "source": [
    "import disjointification\n",
    "from disjointification import load_gene_expression_data, Disjointification\n",
    "from pathlib import Path\n",
    "from pprint import pprint\n",
    "import pandas as pd\n",
    "import numpy as np"
   ]
  },
  {
   "cell_type": "markdown",
   "id": "bfd5e1af-aca0-4ec7-b3de-ca0b60d30217",
   "metadata": {},
   "source": [
    "## Survey the dataset & decide on model parameters\n",
    "### Survey the data"
   ]
  },
  {
   "cell_type": "code",
   "execution_count": 32,
   "id": "969903d7-6f78-4118-b323-2a60f82b4a83",
   "metadata": {},
   "outputs": [
    {
     "name": "stdout",
     "output_type": "stream",
     "text": [
      "labels df shape: (3069, 7)\n",
      "features df shape: (3069, 9260)\n"
     ]
    }
   ],
   "source": [
    "if 'labels_df' not in locals() or 'features_df' not in locals():\n",
    "        print(f\"Dataframes not loaded. Loading.\")\n",
    "        ge_data = load_gene_expression_data()\n",
    "        features_df = ge_data[\"features\"]\n",
    "        labels_df = ge_data[\"labels\"]\n",
    "        print(f\"features_df loaded with shape {features_df.shape}\")\n",
    "        print(f\"labels_df loaded with shape {labels_df.shape}\")\n",
    "print(f\"labels df shape: {labels_df.shape}\")\n",
    "print(f\"features df shape: {features_df.shape}\")"
   ]
  },
  {
   "cell_type": "markdown",
   "id": "c0bf1324-5bb4-4956-81d7-db0639d5f72b",
   "metadata": {},
   "source": [
    "### Set Model paramers\n",
    "- load_last_save_point, last_save_point - enables loading of a previous model and provide a path where it was saved, in .pkl format\n",
    "- min_num_features - disjointification will stop after the best N features found\n",
    "- correlation_threshold - disjointification will only select a feature less correlated to the previous ones than this\n",
    "- select_num_features select_num_instance - allows shrinking the dataset to a given size (int) or fraction (fraction), primarily for debugging\n",
    "- alert selection, debug print - printout when a feature has been selected via disjointification and when various actions are taken, for debugging\n",
    "- model_save_folder - root path under which different models are saved"
   ]
  },
  {
   "cell_type": "code",
   "execution_count": 33,
   "id": "767a6389-615f-48aa-99e0-41cddbd20eb0",
   "metadata": {},
   "outputs": [],
   "source": [
    "load_last_save_point = False\n",
    "last_save_point = r\"model\\06_24_2023__10_58_52\\06_24_2023__10_59_03_(3069, 9260).pkl\"\n",
    "\n",
    "# shrink the dataset for debugging\n",
    "select_num_features = 1.0\n",
    "select_num_instances = 1.0\n",
    "alert_selection = True\n",
    "debug_print = False\n",
    "model_save_folder = r\"\\model\"\n",
    "min_num_features = 800\n",
    "correlation_threshold = 0.2"
   ]
  },
  {
   "cell_type": "markdown",
   "id": "1ce1bc1e-22a0-4e6e-8fce-e85efb28b415",
   "metadata": {},
   "source": [
    "### Create model"
   ]
  },
  {
   "cell_type": "code",
   "execution_count": 34,
   "id": "eb27955b-9386-4af8-9476-80e7387fb7ac",
   "metadata": {},
   "outputs": [
    {
     "name": "stdout",
     "output_type": "stream",
     "text": [
      "saving model...\n",
      "saved model to C:\\model\\08_08_2023__20_07_47\\08_08_2023__20_07_47.pkl\n",
      "Disjointification Test Description\n",
      "features data: (3069, 9260)\n",
      "labels data: (3069, 2)\n",
      "regression label: Lympho\n",
      "classification label: ER\n",
      "correlation method regression: pearson\n",
      "correlation method regression: kendall\n",
      "min num of features to keep in disjointification: 800\n",
      "correlation threshold: 0.2\n",
      "last save point: \\model\\08_08_2023__20_07_47\\08_08_2023__20_07_47.pkl\n",
      "number of features kept in disjointification: lin 0, log 0\n"
     ]
    }
   ],
   "source": [
    "if load_last_save_point:\n",
    "    print(f\"loading model from last save point {last_save_point}\")\n",
    "    test = disjointification.from_file(last_save_point)\n",
    "else:\n",
    "    test = Disjointification(features_file_path=None, labels_file_path=None, features_df=features_df, \n",
    "                             labels_df=labels_df, select_num_features=select_num_features, select_num_instances=select_num_instances, \n",
    "                             root_save_folder=model_save_folder, do_set=False, alert_selection=alert_selection, \n",
    "                             correlation_threshold=correlation_threshold, min_num_features=min_num_features)\n",
    "    test.set()\n",
    "test.describe()"
   ]
  },
  {
   "cell_type": "markdown",
   "id": "735d26e9-9df4-41cc-aab5-c7f31dfe3c24",
   "metadata": {},
   "source": [
    "### Create a save point"
   ]
  },
  {
   "cell_type": "code",
   "execution_count": 35,
   "id": "50a90d15-45a6-486a-95f0-9d80c3d95112",
   "metadata": {},
   "outputs": [
    {
     "name": "stdout",
     "output_type": "stream",
     "text": [
      "last save point:\n",
      "\\model\\08_08_2023__20_07_47\\08_08_2023__20_07_47.pkl\n"
     ]
    }
   ],
   "source": [
    "last_save_point = test.last_save_point_file\n",
    "print('last save point:')\n",
    "print(last_save_point)\n",
    "test = disjointification.from_file(last_save_point)"
   ]
  },
  {
   "cell_type": "code",
   "execution_count": 36,
   "id": "8044a7ad-bc93-4e36-9587-db38b1b51313",
   "metadata": {},
   "outputs": [
    {
     "name": "stdout",
     "output_type": "stream",
     "text": [
      "Disjointification Test Description\n",
      "features data: (3069, 9260)\n",
      "labels data: (3069, 2)\n",
      "regression label: Lympho\n",
      "classification label: ER\n",
      "correlation method regression: pearson\n",
      "correlation method regression: kendall\n",
      "min num of features to keep in disjointification: 800\n",
      "correlation threshold: 0.2\n",
      "last save point: \\model\\08_08_2023__20_07_47\\08_08_2023__20_07_47.pkl\n",
      "number of features kept in disjointification: lin 0, log 0\n"
     ]
    }
   ],
   "source": [
    "test.describe()"
   ]
  },
  {
   "cell_type": "markdown",
   "id": "9f2f26df-a366-4f48-a04d-922ed15a284f",
   "metadata": {},
   "source": [
    "### Run Disjointification"
   ]
  },
  {
   "cell_type": "code",
   "execution_count": 37,
   "id": "296eee40-3e01-4386-990d-1eba761dc2b5",
   "metadata": {},
   "outputs": [
    {
     "name": "stdout",
     "output_type": "stream",
     "text": [
      "08_08_2023__20_07_59 Running Disjointificatioin\n",
      "saving model...\n",
      "saved model to C:\\model\\08_08_2023__20_07_47\\08_08_2023__20_07_47.pkl\n",
      "saving model...\n",
      "saved model to C:\\model\\08_08_2023__20_07_47\\08_08_2023__20_07_47.pkl\n"
     ]
    }
   ],
   "source": [
    "start_time = disjointification.utils.get_dt_in_fmt()\n",
    "print(f\"{start_time} Running Disjointificatioin\")\n",
    "test.run_disjointification()"
   ]
  },
  {
   "cell_type": "code",
   "execution_count": 38,
   "id": "ffeeec79-479a-457e-92ac-599e77dd9e61",
   "metadata": {},
   "outputs": [
    {
     "name": "stdout",
     "output_type": "stream",
     "text": [
      "('features selected in disjointification lin: \\n'\n",
      " \"['LCK', 'NFKB1', 'CNR1', 'RAB1B', 'PTPRF', 'ZNF358', 'PRCP', 'SULT1B1', \"\n",
      " \"'LEPROTL1', 'PSTPIP2', 'SYNJ2', 'MYL2', 'ABCB11', 'NUDCD3', 'GRM8', 'SNTA1', \"\n",
      " \"'C19orf73', 'SSR4', 'RHOH', 'ZNF394', 'IL17A', 'NTRK1', 'GNB3', 'CFHR3', \"\n",
      " \"'GRK4', 'SYT2', 'FAR2', 'SMYD3', 'TMSB15B', 'MMP20', 'IL20RA', 'UGGT2', \"\n",
      " \"'CDV3', 'DEFA4', 'QRSL1', 'OR3A3', 'DDX43', 'ARL14', 'OMG', 'GATC', \"\n",
      " \"'IL20RB', 'FHL2', 'CYP2A13', 'ATF3', 'APC2', 'CHD7', 'SUPT3H', 'RGPD1', \"\n",
      " \"'ACTN3', 'FLOT2', 'OTUB2', 'GNG13', 'FAM153A', 'BTNL2', 'RETN', 'CYP4F2', \"\n",
      " \"'DNAJC8', 'CCDC15', 'KIR3DL3', 'CPNE6', 'CSPG5', 'CPPED1', 'CISD1', 'ATP4A', \"\n",
      " \"'YOD1', 'C3orf14', 'PYGL', 'HK2', 'PHYH', 'MC4R', 'CLEC4M', 'GLUD2', 'AAK1', \"\n",
      " \"'SLC12A5', 'VRTN', 'RPGRIP1', 'MAN1B1', 'CRYBA4', 'RPSA', 'CASP7', 'PADI3', \"\n",
      " \"'ANXA10', 'TPPP3', 'RRH', 'HIST1H2BI', 'IMPG2', 'PEPD', 'SLC5A5', 'FADS1', \"\n",
      " \"'WWP2', 'GPC5', 'DNAJB1', 'EIF3C', 'MYH14', 'MLC1', 'KIF25', 'CALM1', \"\n",
      " \"'BCAN', 'AURKC', 'OR3A2', 'CTRC', 'KRT10', 'NHLH1', 'PCTP', 'CBLN1', \"\n",
      " \"'HTR1E', 'NOX5', 'ALDH18A1', 'FGF22', 'TG', 'NR1D1', 'FOXD4', 'MYOG', \"\n",
      " \"'P2RX2', 'RFPL2', 'AVPR1B', 'SORCS3', 'SOX2', 'DDX4', 'MYO16', 'MAP9', \"\n",
      " \"'S100A5', 'SLITRK5', 'CYP2C9', 'RYR2', 'AEN', 'RXFP3', 'USH2A', 'DAO', \"\n",
      " \"'PSPN', 'GRIN2C', 'IL22', 'CCDC81', 'MCF2', 'EN2', 'FURIN', 'SARDH', \"\n",
      " \"'GABRQ', 'CALCR', 'NRGN', 'HTR4', 'MGAM', 'CHMP2B', 'CSN1S1', 'MORC1', \"\n",
      " \"'ABCC3', 'NPY5R', 'TMC7', 'TRIM68', 'MADCAM1', 'CCDC134', 'TPM3', 'ZSCAN5A', \"\n",
      " \"'CRYM', 'PKNOX2', 'FEZF2', 'SLC9A3', 'GTF2IRD2', 'NKX2-2', 'HIST1H4C', \"\n",
      " \"'MCHR1', 'RHCE', 'NLRP2', 'SERPINI2', 'GPR52', 'RBFOX1', 'STON1-GTF2A1L', \"\n",
      " \"'POMZP3', 'BTNL3', 'IL36A', 'HOXB5', 'SLC22A2', 'TEX2', 'UXS1', 'MAP3K13', \"\n",
      " \"'SYNGR4', 'GML', 'NET1', 'OXCT1', 'SERPINC1', 'RAPSN', 'LDHAL6B', 'NPPA', \"\n",
      " \"'KLHL1', 'TAC3', 'FAM50B', 'CHRNA10', 'SCN1A', 'L1TD1', 'PAX3', 'SIX3', \"\n",
      " \"'DAB1', 'OR1F1', 'RNF17', 'GH2', 'ARNTL', 'PTTG2', 'SLC26A4', 'SIX2', \"\n",
      " \"'FTH1', 'FAM163A', 'SDK2', 'ALB', 'SLC6A13', 'SAG', 'PTPRR', 'GRM1', \"\n",
      " \"'STMN2', 'PTGER1', 'BMP10', 'RBPJL', 'RSPH6A', 'CACNA1I', 'UPK3A', 'TUBAL3', \"\n",
      " \"'RPA4', 'ELAVL4', 'SCGB1D1', 'IL25', 'CASK', 'LHB', 'HNF1B', 'NOX1', \"\n",
      " \"'CYP2C8', 'UGT2B15', 'KLK13', 'IMPG1', 'TGM3', 'GABRB1', 'IAPP', 'HTR3B', \"\n",
      " \"'GUCY2D', 'SCTR', 'ADH6', 'MTNR1B', 'ZGPAT', 'ATG10', 'TDRD12', 'SLC3A1', \"\n",
      " \"'PRLH', 'C7orf69', 'CYP2F1', 'C9', 'TSKU', 'TAS2R1', 'NELL1', 'MYLPF', \"\n",
      " \"'HMGN5', 'NARS2', 'TUBA3C', 'HTR1A', 'FGF13', 'CFTR', 'ERC2', 'RAG2', \"\n",
      " \"'ADCY10', 'CER1', 'PCDHB1', 'TCP11', 'APOA1', 'CST8', 'NDST3', 'FOLH1B', \"\n",
      " \"'FRMPD1', 'TRPM1', 'KNG1', 'GALNT8', 'GABRR1', 'NXF3', 'TACR2', 'GPRC5D', \"\n",
      " \"'GRM3', 'ARPP21', 'RPH3A', 'GSTM1', 'C2orf27A', 'SLC17A3', 'GPR50', \"\n",
      " \"'IGFBP5', 'HCRTR1', 'TMEM11', 'CA5A', 'HBG1', 'VIL1', 'CRH', 'POLR2J2', \"\n",
      " \"'APOA2', 'UBC', 'MDK', 'PROZ', 'LAMB4', 'P2RX3', 'ANPEP', 'CLCF1', 'ZNRF4', \"\n",
      " \"'INSL5', 'SSX5', 'POU6F2', 'A4GNT', 'IL4', 'RIMBP2', 'CHRM5', 'PIWIL1', \"\n",
      " \"'KCNJ13', 'RFX4', 'GUCA1B', 'CYP7A1', 'WSB2', 'SCN10A', 'PDC', 'GAD2', \"\n",
      " \"'CLCNKB', 'PSG9', 'PDE6C', 'ADH7', 'HBQ1', 'ADRA2B', 'DSCAM', 'ACSM2B', \"\n",
      " \"'GRB14', 'PRKAR2B', 'ISL1', 'KRT12', 'FGL1', 'AKR1C4', 'ABCG5', 'C4BPB', \"\n",
      " \"'LIN28A', 'HSFX1', 'PRSS21', 'F11', 'GOLGA7', 'CHIA', 'NR0B1', 'RAB40AL', \"\n",
      " \"'DAPL1', 'MTUS2', 'GSG1', 'INSL6', 'KCNA10', 'SIGMAR1', 'MUC7', 'ZIC3', \"\n",
      " \"'AVP', 'ARR3', 'OR10H1', 'MSTN', 'DRD5', 'IRS4', 'CDKN1B', 'CNGB3', \"\n",
      " \"'KRTAP1-3', 'PLSCR2', 'ODF1', 'MUC4', 'ATP2B2', 'LYZL6', 'GIP', 'GKN1', \"\n",
      " \"'GUCA2B', 'C1D', 'CYP1A1', 'PHOX2B', 'APOBEC2', 'SOX3', 'ANKRD7', 'PRODH2', \"\n",
      " \"'HYAL4', 'NEUROD2', 'SLC10A1', 'PDZD3', 'HIST1H3D', 'LGSN', 'BFSP1', \"\n",
      " \"'REG3A', 'MAS1', 'KCNJ6', 'CLPS', 'RHO', 'FEV', 'DPYSL4', 'MYL10', 'NPY', \"\n",
      " \"'DKKL1', 'LRRC37A2', 'ZNF177', 'DSCR4', 'POU4F2', 'TAAR2', 'SYN3', 'OR1G1', \"\n",
      " \"'IFNA8', 'CST1', 'MIP', 'ZNF157', 'SCGB1A1', 'SLC10A2', 'PAEP', 'SFTPC', \"\n",
      " \"'TGM4', 'WNT8B', 'TBX4', 'FUT9', 'TEX12', 'ATP12A', 'GDF3', 'CRYGD', \"\n",
      " \"'IFNA21', 'SOX21', 'SIGLEC15', 'SRD5A2', 'MS4A5', 'DEFA5', 'FGF8', \"\n",
      " \"'SHCBP1L', 'SPAG11B', 'LPA', 'RPE65', 'GRM5', 'HRG', 'CALB1', 'SLC13A1', \"\n",
      " \"'ZPBP', 'RAB36', 'GIF', 'CDH16', 'HAND1', 'RIT2', 'PDE6H', 'RFPL3', 'AMELX', \"\n",
      " \"'PBX3', 'MC2R', 'POU3F4', 'WAPL', 'DEFB4A', 'KCNJ9', 'RAD21L1', 'CCDC70', \"\n",
      " \"'POU4F3', 'LGALS13', 'TEX28', 'SCIN', 'GLRA3', 'MEP1B', 'PELO', 'SLC22A7', \"\n",
      " \"'CSH1', 'MGAT4C', 'LRIT1', 'TEX13A', 'MLN', 'MYOT', 'MAB21L2', 'PCDH11Y', \"\n",
      " \"'CA10', 'PDHA2', 'OPN1SW', 'CDH10', 'FGF5', 'LRTM1', 'NDST4', 'SPINK1', \"\n",
      " \"'OR2J2', 'SNTG1', 'KRTAP9-9', 'PAPOLB', 'RGS7', 'GUCY2C', 'SSX3', 'TRIM49', \"\n",
      " \"'MT1E', 'RGPD6', 'ADAM20', 'INSL4', 'TBKBP1', 'MS4A12', 'HCRTR2', 'SLC22A6', \"\n",
      " \"'MAGED4B', 'APOL5', 'GNAT1', 'ARSF', 'MAGEC1', 'BTG4', 'HSPA1A', 'LEFTY1', \"\n",
      " \"'CHRNB3', 'NR5A1', 'MLANA', 'MAGEA8', 'CRYAA', 'UBQLN3', 'TSHB', 'TMLHE', \"\n",
      " \"'CCL27', 'TMPRSS15', 'SLN', 'ZFY', 'LRP1B', 'PRKACG', 'OR11A1', 'FGF4', \"\n",
      " \"'TAS2R10', 'ACTL7A', 'ALDOB', 'LECT2', 'FABP3', 'MAGEA1', 'CCZ1', 'SH3GL2', \"\n",
      " \"'OR7C2', 'CELA2A', 'LIPF', 'CRISP2', 'SAGE1', 'TRHR', 'BEST2', 'IL9', \"\n",
      " \"'TAS2R9', 'GCOM1', 'MAGEB3', 'VSX1', 'PRAMEF10', 'FKRP', 'AVPI1', 'INHBC', \"\n",
      " \"'GOLGA6C', 'TP53', 'MAGEC3', 'SOHLH2', 'RNF121', 'GUCA2A', 'CELA3B', \"\n",
      " \"'LRRC19', 'OR1E1', 'OR2F1', 'LMO1', 'THEG', 'PRM1', 'CELA2B', 'FGF6', \"\n",
      " \"'ACSBG2', 'ATOH1', 'TEX13B', 'NYX', 'ST3GAL1', 'CALCA', 'PAGE1', 'TREH', \"\n",
      " \"'ABCG4', 'ITGB1BP2', 'CYP3A5', 'GSC2', 'VIP', 'FGF23', 'NPVF', 'CTRB2', \"\n",
      " \"'HIST3H3', 'UPK3B', 'LUZP4', 'CABP2', 'FKBP6', 'CYP3A43', 'CDH18', 'BMP15', \"\n",
      " \"'TAS2R13', 'TAS2R3', 'CPN1', 'PRB3', 'CNTN5', 'IL5', 'FSCN3', 'REG1B', \"\n",
      " \"'GRK1', 'CA7', 'ALPI', 'NQO2', 'SPP2', 'GK2', 'GJA8', 'PLA2G1B', 'MLNR', \"\n",
      " \"'DRD1', 'APOBEC1', 'ALLC', 'MSH4', 'GOLGA6A', 'FSHR', 'DEC1', 'GPR22', \"\n",
      " \"'ANP32D', 'POU1F1', 'SLC45A2', 'SPO11', 'GPX5', 'TLX2', 'SCN8A', 'ASCL3', \"\n",
      " \"'DUOX1', 'MYH4', 'TAS2R7', 'SCRN1', 'SIRT4', 'CTAGE1', 'TFF2', 'GC', 'MC3R', \"\n",
      " \"'DEFA6', 'IGFBP1', 'ELSPBP1', 'LDHC', 'PGA3', 'APOA4', 'MOS', 'TTR', \"\n",
      " \"'S100G', 'RPL10L', 'CCT8L2', 'DUSP21', 'SHBG', 'KRT33B', 'GNRH2', 'PIWIL2', \"\n",
      " \"'LGI1', 'CDH15', 'SIX6', 'HAL', 'RDH8', 'MYF6', 'LBX1', 'C8A', 'PDYN', \"\n",
      " \"'CBWD5', 'ANP32C', 'TACR3', 'IFNA6', 'ZNF556', 'MEPE', 'RGSL1', 'NPPB', \"\n",
      " \"'B3GALT5', 'TAS2R14', 'PTH', 'PAX4', 'NKX2-1', 'HIST1H4G', 'NTNG1', \"\n",
      " \"'CYFIP1', 'CGB2', 'AKAP4', 'OMP', 'FBP2', 'UBE2NL', 'CDX4', 'SLC2A2', \"\n",
      " \"'BRS3', 'SERPINA7', 'GAPDHS', 'CHRM2', 'SSX2', 'ST8SIA3', 'GPR32', 'GABRA4', \"\n",
      " \"'CRYGC', 'ST6GALNAC5', 'CYP24A1', 'OR7A10', 'IL37', 'SEC14L3', 'SST', \"\n",
      " \"'FAM53C', 'SLC25A31', 'SLC22A13', 'SHH', 'PRH2', 'SLC28A2', 'TUBB1', \"\n",
      " \"'GRID2', 'NGB', 'CRYBA1', 'PRPS1L1', 'ABCA4', 'CORT', 'GALR3', 'HTN3', \"\n",
      " \"'PRDM14', 'TAS2R8', 'KLK15', 'PKD2L2', 'CDH9', 'NPHS2']\")\n"
     ]
    }
   ],
   "source": [
    "pprint(f\"features selected in disjointification lin: \\n{test.features_selected_in_disjointification_lin}\")"
   ]
  },
  {
   "cell_type": "code",
   "execution_count": 39,
   "id": "7ce733ef-d9c5-4b09-ad1c-5cc3b0be6e23",
   "metadata": {},
   "outputs": [
    {
     "name": "stdout",
     "output_type": "stream",
     "text": [
      "('features selected in disjointification log: \\n'\n",
      " \"['ESR1', 'SLC26A3', 'SLC24A2', 'AHSG', 'AMHR2', 'GH2', 'PIP4K2B', 'DOCK3', \"\n",
      " \"'HRG', 'GLRX5', 'GLRA3', 'CRISP2', 'ISOC1', 'KRT34', 'TEC', 'MTNR1A', \"\n",
      " \"'MYH6', 'HSPB3', 'ANO2', 'HRH3', 'VPS35', 'TNNI3', 'DNAH2', 'IL17A', \"\n",
      " \"'R3HCC1', 'CTBP1', 'IFNA10', 'HSD17B1', 'ARC', 'SARDH', 'GDF3', 'PGM3', \"\n",
      " \"'SLC39A8', 'CDC37L1', 'SLC28A3', 'DTNB', 'NKX2-1', 'MCF2', 'FGF14', \"\n",
      " \"'ZNF549', 'SERPINC1', 'KRT20', 'SLC22A1', 'CALCA', 'PRDM9', 'GPC5', \"\n",
      " \"'ALDH3B1', 'RNLS', 'GH1', 'S100G', 'SCN1A', 'RBFOX1', 'DSCAM', 'ATP2B3', \"\n",
      " \"'NR5A1', 'CAMK2G', 'SGK2', 'RBPJL', 'TUBA3C', 'CASP7', 'HAND1', 'ATP12A', \"\n",
      " \"'SLC25A4', 'STMN4', 'MNS1', 'TMPRSS15', 'NCR2', 'PRKACA', 'NR1I3', 'KIF25', \"\n",
      " \"'EDF1', 'RSF1', 'CYP2F1', 'DSCR4', 'CYP51A1', 'GNPDA1', 'CCZ1', 'TGM3', \"\n",
      " \"'FAM50B', 'CALML4', 'TDRD3', 'DNTT', 'HAUS4', 'RFPL2', 'DNAH3', 'TRDMT1', \"\n",
      " \"'LRRC36', 'HIST1H3I', 'FOLR3', 'SLC34A1', 'CFHR2', 'BTNL3', 'PEX5', 'CDH15', \"\n",
      " \"'HIST1H4C', 'IL13', 'MYOG', 'KLHL1', 'MAB21L2', 'DEFB4A', 'ITIH2', 'GRM3', \"\n",
      " \"'IGFBP5', 'C8A', 'GPM6A', 'FAR2', 'ARPP21', 'TUBAL3', 'SFTPC', 'PDZD3', \"\n",
      " \"'NELL1', 'PPP1R14D', 'UGT2B4', 'ONECUT1', 'B3GALT5', 'CACNG3', 'AKR1C4', \"\n",
      " \"'ARHGDIG', 'BFSP1', 'USH2A', 'GNB3', 'SMR3A', 'CDYL', 'RNASE3', 'C1D', \"\n",
      " \"'HLA-G', 'RPA4', 'RHOA', 'CEP104', 'PSPN', 'ATG13', 'S100A5', 'TLX2', 'AEN', \"\n",
      " \"'SLC20A2', 'CCDC81', 'LPA', 'PLCH2', 'DKKL1', 'TMEM38B', 'PYGL', 'BTNL2', \"\n",
      " \"'SIM2', 'DUOX1', 'SLC29A1', 'TMSB15B', 'TNP1', 'RPH3A', 'SLC10A1', 'LRP1B', \"\n",
      " \"'NKX2-2', 'IL25', 'PAEP', 'MUC13', 'GTF2IRD2', 'REG1A', 'HCRTR2', 'CFHR4', \"\n",
      " \"'KCNN1', 'OR10H1', 'MKKS', 'ZIC3', 'LIM2', 'ACAN', 'PHLDA1', 'ANXA10', \"\n",
      " \"'ASXL3', 'PLA2G1B', 'MLANA', 'GAL3ST1', 'SPAG16', 'GPR50', 'NEU2', 'AVPR1B', \"\n",
      " \"'ART1', 'OSBPL8', 'OR3A3', 'ID2', 'TAS2R1', 'GSTM1', 'ADAM30', 'CGB2', \"\n",
      " \"'TTR', 'APOC3', 'INSL4', 'RSPH6A', 'CRYBB3', 'WIPI1', 'NR1D1', 'TRIB1', \"\n",
      " \"'CHRNA7', 'CSN2', 'LHB', 'LDHAL6B', 'ARR3', 'HTR2C', 'CRYAA', 'CA10', \"\n",
      " \"'IMPG1', 'MTRR', 'GLA', 'FAM153A', 'MYL2', 'ATP4B', 'RBP1', 'NEUROD2', \"\n",
      " \"'KRT76', 'KIR3DL3', 'HMHB1', 'PDYN', 'SIX2', 'MUC4', 'RFX4', 'PRCP', \"\n",
      " \"'ATOH1', 'TUBB2A', 'RIT2', 'GIF', 'HIST1H2BO', 'ADAM20', 'HOXB6', 'CPPED1', \"\n",
      " \"'TFF2', 'ACSBG2', 'DAO', 'LUZP4', 'BMP3', 'KCNJ13', 'PZP', 'SNN', 'GSG1', \"\n",
      " \"'GABRA4', 'SLC22A2', 'AMBN', 'FBP2', 'OR11A1', 'INSL6', 'RAD21L1', 'OPN1SW', \"\n",
      " \"'MC4R', 'CPN1', 'STON1-GTF2A1L', 'LBX1', 'PDE6H', 'MGAT4C', 'RDH8', 'PF4', \"\n",
      " \"'POMZP3', 'SYT12', 'KCNA10', 'GSC2', 'FUT2', 'PLSCR2', 'PEG10', 'MYOT', \"\n",
      " \"'MYF6', 'GCKR', 'SST', 'C9', 'ADCY10', 'GAPDHS', 'SPACA1', 'AMH', 'GPR32', \"\n",
      " \"'ANKRD7', 'RGPD1', 'MAGEA1', 'LGALS14', 'NPTX1', 'LRRC19', 'CPNE6', \"\n",
      " \"'SLC13A4', 'CFHR1', 'KCNJ6', 'ABCG4', 'DRD3', 'SIX6', 'SI', 'GRB14', \"\n",
      " \"'ERAP2', 'CRNN', 'MCHR1', 'MYL10', 'ADAM18', 'CALB1', 'HTN3', 'DAB1', \"\n",
      " \"'SMCP', 'CYP2C9', 'PBX3', 'CDH18', 'SLC2A2', 'OR7A10', 'ATG10', 'IL13RA2', \"\n",
      " \"'MTNR1B', 'CYP24A1', 'SLC9A3', 'HES2', 'TG', 'RHCE', 'C7orf69', 'GALR3', \"\n",
      " \"'ZFR2', 'RNF17', 'CST8', 'CHST5', 'PTPRR', 'EIF3C', 'RAPSN', 'TGM4', 'MC2R', \"\n",
      " \"'SOX2', 'TRHR', 'EVX1', 'HYAL4', 'ACE', 'NYX', 'POU3F4', 'PLXNB2', 'PCTP', \"\n",
      " \"'FRMPD4', 'PRPS2', 'F11', 'CFHR3', 'RNF220', 'GJA8', 'DAPL1', 'RAB40AL', \"\n",
      " \"'LRIT1', 'DRD1', 'RYR2', 'KLK15', 'WNT8B', 'ST8SIA5', 'PKNOX2', 'HSFX1', \"\n",
      " \"'CSH1', 'PIWIL2', 'GPR52', 'POU4F3', 'GABRB1', 'PRKACB', 'LRRTM4', 'ACTN3', \"\n",
      " \"'PRSS1', 'PSG9', 'SCN10A', 'ABCG5', 'GKN1', 'APOL5', 'CCDC70', 'LYZL6', \"\n",
      " \"'UPK3A', 'FGA', 'NACA2', 'RNASET2', 'DPEP3', 'RHO', 'GUCY2C', 'PAX4', \"\n",
      " \"'PFKFB2', 'SYNGR4', 'FGF23', 'FBXO7', 'LDHC', 'LECT2', 'SCGB1A1', 'GUCA2B', \"\n",
      " \"'CNTN5', 'MAGEC3', 'LRTM1', 'TEX12', 'SRD5A2', 'NTS', 'OMG', 'SLC22A8', \"\n",
      " \"'FTH1', 'IL22', 'SLC3A1', 'CLCF1', 'CTRB2', 'MC3R', 'OR12D2', 'POLR2J2', \"\n",
      " \"'PTPRH', 'RGSL1', 'TNR', 'FEZF2', 'ST6GALNAC5', 'TEX13B', 'OMP', 'PPP1CC', \"\n",
      " \"'GUCY2F', 'PCDH11Y', 'SCRN1', 'CRYGC', 'PRB3', 'CLCN1', 'MORC1', 'TAS2R14', \"\n",
      " \"'HNF1B', 'CYP11B2', 'GRM1', 'PCDHB1', 'GLRA1', 'FLRT1', 'TAS2R3', 'HSD17B3', \"\n",
      " \"'ZNF556', 'ZFY', 'DTNA', 'GNAT1', 'TNNC2', 'NR0B1', 'OR7C2', 'CRYBA4', \"\n",
      " \"'SIRT4', 'SLC6A13', 'PRH2', 'SLC5A5', 'ATP2B2', 'TTPA', 'PRAMEF10', 'CRYGD', \"\n",
      " \"'TACR2', 'NEUROD6', 'SLC22A7', 'IFNA8', 'PPY', 'FSCN3', 'CTRC', 'ASCL3', \"\n",
      " \"'MAGEA8', 'OR2W1', 'PIWIL1', 'MSH4', 'CHRNB3', 'BFSP2', 'SHH', 'MBD2', \"\n",
      " \"'SLC13A1', 'ALDOB', 'P2RX3', 'PLCE1', 'PACS1', 'NLRP2', 'LGSN', 'TDRD12', \"\n",
      " \"'PAGE1', 'SOHLH2', 'MLC1', 'CHRM2', 'NPVF', 'CYP1A1', 'CA5A', 'CER1', \"\n",
      " \"'GALNT8', 'TRIM48', 'NOX5', 'VSX1', 'GML', 'KCNJ9', 'ATF7IP2', 'RIMBP2', \"\n",
      " \"'BRS3', 'ELSPBP1', 'PTH', 'HCRTR1', 'ZNRF4', 'KCNN2', 'CRH', 'APOA4', \"\n",
      " \"'FGF4', 'PKD2L2', 'GPRC5D', 'CHIA', 'GCOM1', 'CTAGE1', 'ACTL7A', 'TAS2R13', \"\n",
      " \"'NFKBIA', 'CYP3A7', 'KRTAP4-7', 'GRID2', 'ODF1', 'DDX4', 'CABP2', 'SOX3', \"\n",
      " \"'AURKC', 'CDH10', 'LRIF1', 'GYPE', 'KRTAP9-9', 'FGF8', 'CEACAM8', 'SLC26A4', \"\n",
      " \"'GOLGA6A', 'CETN1', 'FKBP6', 'SHCBP1L', 'BTG4', 'PRM1', 'AMELX', 'CDH9', \"\n",
      " \"'TEX28', 'GNRH2', 'ABCB11', 'CYP3A43', 'DEFA5', 'ALPI', 'OR3A2', 'GABRR1', \"\n",
      " \"'GUCA1B', 'PDC', 'OR1E1', 'DERL2', 'MOBP', 'MLN', 'TAS2R7', 'CHRM5', \"\n",
      " \"'HIST1H4G', 'PGLYRP1', 'FGF6', 'A4GNT', 'GYPB', 'LGALS13', 'TRPM1', 'NGB', \"\n",
      " \"'CELA2A', 'IFNA21', 'SERPINI2', 'PRODH2', 'SULT2A1', 'CYP7A1', 'FAM131A', \"\n",
      " \"'ZPBP', 'RAG2', 'PRKACG', 'SHBG', 'SLC22A13', 'EIF3A', 'C11orf71', 'IL9', \"\n",
      " \"'ELAVL4', 'DDX43', 'IL36A', 'SAGE1', 'EPB41L3', 'NPHS2', 'ST8SIA3', 'NQO2', \"\n",
      " \"'PSORS1C1', 'ANP32D', 'CA7', 'NDST3', 'SLC25A31', 'PPEF2', 'CDX4', 'LTB4R2', \"\n",
      " \"'PLA2G4C', 'NPY', 'MAS1', 'USP2', 'SPP2', 'MYLPF', 'CLEC4M', 'SSX3', 'GC', \"\n",
      " \"'SPINK5', 'ZNF157', 'MLNR', 'NXF3', 'LEFTY1', 'FRMPD1', 'MIP', 'PDE6C', \"\n",
      " \"'GDPD2', 'SPAG11B', 'UPK3B', 'ANP32C', 'OR2F1', 'GK2', 'TUBB1', 'ADORA2A', \"\n",
      " \"'CELA2B', 'MOS', 'TAS2R9', 'PNLIPRP1', 'HTR3B', 'GPX5', 'APOBEC1', 'PRSS21', \"\n",
      " \"'UBC', 'PRDM14', 'GAD2', 'MEP1B', 'PAPOLB', 'SEC14L3', 'INHBC', 'HSPA1A', \"\n",
      " \"'CRYBA1', 'HIST3H3', 'GOLGA6C', 'SLC17A1', 'OR1G1', 'TSHB', 'PNLIP', 'MEPE', \"\n",
      " \"'MYOZ2', 'LIPF', 'DUSP21', 'CNGB3', 'PTTG2', 'HAL', 'KRT12', 'KCNA4', \"\n",
      " \"'FABP3', 'WAPL', 'AKAP4', 'RPL10L', 'LMO3', 'POU4F2', 'SCN8A', 'RGPD6', \"\n",
      " \"'IL4', 'PRPS1L1', 'GUCA2A', 'SPO11', 'CELA3B', 'MS4A3', 'FEV', 'SERPINA7', \"\n",
      " \"'MTUS2', 'DEFA6', 'IFNA6', 'PELO', 'IMPG2', 'TAS2R10', 'CCT8L2', 'ACSM2B', \"\n",
      " \"'MS4A5', 'MADCAM1', 'UBQLN3', 'GPR22', 'OR1A1', 'HTR4', 'SLC10A2', 'PDHA2', \"\n",
      " \"'ANO3', 'BMP15', 'KNG1', 'MS4A12', 'FGF13', 'UBE2NL', 'TMC7', 'TAS2R8', \"\n",
      " \"'SSX2', 'PGA3']\")\n"
     ]
    }
   ],
   "source": [
    "pprint(f\"features selected in disjointification log: \\n{test.features_selected_in_disjointification_log}\")"
   ]
  },
  {
   "cell_type": "code",
   "execution_count": 40,
   "id": "23b7047f-1405-477e-9a40-054dd3bd7a59",
   "metadata": {},
   "outputs": [
    {
     "name": "stdout",
     "output_type": "stream",
     "text": [
      "Last saved \n",
      "\\model\\08_08_2023__20_07_47\\08_08_2023__20_07_47.pkl \n",
      "at \n",
      "08_09_2023__06_05_46\n"
     ]
    }
   ],
   "source": [
    "print(f\"Last saved \\n{test.last_save_point_file} \\nat \\n{test.last_save_time}\")"
   ]
  },
  {
   "cell_type": "code",
   "execution_count": null,
   "id": "23fa92d3-1b3f-45f5-87ff-6c10cefb5543",
   "metadata": {},
   "outputs": [],
   "source": []
  }
 ],
 "metadata": {
  "kernelspec": {
   "display_name": "Python 3 (ipykernel)",
   "language": "python",
   "name": "python3"
  },
  "language_info": {
   "codemirror_mode": {
    "name": "ipython",
    "version": 3
   },
   "file_extension": ".py",
   "mimetype": "text/x-python",
   "name": "python",
   "nbconvert_exporter": "python",
   "pygments_lexer": "ipython3",
   "version": "3.10.5"
  }
 },
 "nbformat": 4,
 "nbformat_minor": 5
}
